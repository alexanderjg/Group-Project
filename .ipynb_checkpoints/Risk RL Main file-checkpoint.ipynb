{
 "cells": [
  {
   "cell_type": "code",
   "execution_count": 1,
   "metadata": {
    "collapsed": true
   },
   "outputs": [],
   "source": [
    "import numpy as np"
   ]
  },
  {
   "cell_type": "code",
   "execution_count": 2,
   "metadata": {
    "collapsed": true
   },
   "outputs": [],
   "source": [
    "class territory:\n",
    "    \"\"\"A territory within Risk\"\"\"\n",
    "    \n",
    "    def __init__(self, name, continent, index):\n",
    "        self.name = name\n",
    "        self.continent = continent\n",
    "        self.index = index\n",
    "        \n",
    "        self.owner = None\n",
    "        self.num_units = 0\n",
    "        return None\n",
    "        \n",
    "    def assign_owner(self, owner, num_units):\n",
    "        self.owner = owner\n",
    "        self.num_units = num_units\n",
    "        return None\n",
    "    \n",
    "    def change_units(self, unit_addition):\n",
    "        self.num_units += unit_addition\n",
    "        return self.num_units"
   ]
  },
  {
   "cell_type": "code",
   "execution_count": 3,
   "metadata": {
    "collapsed": true
   },
   "outputs": [],
   "source": [
    "class player:\n",
    "    \"\"\"A player. This is the base class for the opponents and the agent.\"\"\"\n",
    "    \n",
    "    def __init__(self): #Add these later if necessary: num_units=0, num_territories=0, continents_held=None):\n",
    "        # Initialise all properties\n",
    "        self.num_units = 0\n",
    "        self.num_territories = 0\n",
    "        self.continents = np.array([0, 0, 0])\n",
    "        self.owned_territories = []\n",
    "        return None\n",
    "    \n",
    "    def change_units(self, unit_addition):\n",
    "        \"\"\"Alter number of units\"\"\"\n",
    "        self.num_units += unit_addition\n",
    "        return self.num_units\n",
    "    \n",
    "    def add_territory(self, territory_index):\n",
    "        self.num_territories +=1\n",
    "        self.owned_territories.append(territory_index)\n",
    "        return self.num_territories, self.owned_territories"
   ]
  },
  {
   "cell_type": "code",
   "execution_count": 4,
   "metadata": {
    "collapsed": true
   },
   "outputs": [],
   "source": [
    "class world_map:\n",
    "    \"\"\"The details of the Risk game board in it's current state\"\"\"\n",
    "    \n",
    "    def __init__(self, tot_players, tot_territories):\n",
    "        self.tot_players = tot_players\n",
    "        \n",
    "        self.territory_index_lookup = {'Yakutsk':0,'Kamchatka':1,'Siberia':2,'Irkutsk':3,'Japan':4,\n",
    "                          'Mongolia':5,'Ural':6,'China':7,'Afghanistan':8,'Middle East':9,\n",
    "                          'India':10,'Siam':11,'Egypt':12,'North Africa':13,'East Africa':14,\n",
    "                          'Congo':15,'Madagascar':16,'South Africa':17,'Indonesia':18,'New Guinea':19,\n",
    "                          'Western Australia':20,'Eastern Australia':21}\n",
    "        \n",
    "        self.territory_connections = {0:[1,2,3],1:[0,3,4],2:[0,3,5,6,7],3:[0,1,2,5],4:[1,5],\n",
    "                                      5:[2,3,4,7],6:[2,7,8],7:[2,5,6,8,10,11],8:[6,7,9,10],\n",
    "                                      9:[8,10,12,14],10:[7,8,9,11],11:[7,10,18],12:[9,13,14],\n",
    "                                      13:[12,14,15],14:[9,12,13,15,16,17],15:[13,14,17],16:[14,17],\n",
    "                                      17:[14,15,16],18:[11,19,20],19:[18,20,21],20:[18,19,21],\n",
    "                                      21:[19,20]}\n",
    "        \n",
    "        self.territory_name_lookup = {v: k for k, v in self.territory_index_lookup.items()}\n",
    "        \n",
    "        self.tot_territories = len(self.territory_index_lookup.keys())\n",
    "        \n",
    "        self.territories = self.reset_board()\n",
    "        \n",
    "\n",
    "    \n",
    "    def reset_board(self):\n",
    "        \"\"\"Resets the game board and prepare for a new game of Risk\n",
    "            Adds all territories to a single list whilst initialising them as classes\"\"\"\n",
    "        self.territories = []\n",
    "        for t_index in self.territory_name_lookup:\n",
    "            # Determine continent\n",
    "            if t_index <= 11:\n",
    "                # Territory is in Asia\n",
    "                continent = 0\n",
    "            elif t_index <= 17:\n",
    "                # Territory is in Africa\n",
    "                continent = 1\n",
    "            elif t_index <= 21:\n",
    "                # Territory is in Oceana\n",
    "                continent = 2\n",
    "            else:\n",
    "                raise \"Too many territories input\"\n",
    "\n",
    "            self.territories.append(territory(self.territory_name_lookup[t_index], continent, t_index))\n",
    "            \n",
    "        return self.territories\n",
    "\n",
    "    def find_connection_names(self, name=None, index=None):\n",
    "        \"\"\"Take in territory name or index as input and output the names of its neighbours\"\"\"\n",
    "        if name == None:\n",
    "            if index == None:\n",
    "                raise \"At least one of 'name' and 'index' must be input\"\n",
    "            # Use index to find connections\n",
    "            connections = self.territory_connections[index]\n",
    "\n",
    "            for i in range(len(connections)):\n",
    "\n",
    "                connections[i] = self.territory_name_lookup[connections[i]]\n",
    "\n",
    "            return connections\n",
    "        else:\n",
    "            # Use name to find connections\n",
    "            connections = self.territory_connections[self.territory_index_lookup[name]]\n",
    "\n",
    "            for i in range(len(connections)):\n",
    "\n",
    "                connections[i] = self.territory_name_lookup[connections[i]]\n",
    "\n",
    "            return connections\n",
    "    \n",
    "    def find_connection_indices(self, name=None, index=None):\n",
    "        \"\"\"Take in territory name or index as input and output the indices of its neighbours\"\"\"\n",
    "        if name == None:\n",
    "            if index == None:\n",
    "                raise \"At least one of 'name' and 'index' must be input\"\n",
    "            \n",
    "            connections = self.territory_connections[index]\n",
    "\n",
    "            return connections\n",
    "        else:\n",
    "            connections = self.territory_connections[territory_index_lookup[name]]\n",
    "\n",
    "            return connections"
   ]
  },
  {
   "cell_type": "code",
   "execution_count": 5,
   "metadata": {},
   "outputs": [],
   "source": [
    "class risk():\n",
    "    \n",
    "    def __init__(self,agent):\n",
    "        \n",
    "        self.players = [agent,player(),player()]\n",
    "        self.board = world_map(3,22)\n",
    "        "
   ]
  },
  {
   "cell_type": "code",
   "execution_count": 6,
   "metadata": {},
   "outputs": [],
   "source": [
    "game = risk(0)"
   ]
  },
  {
   "cell_type": "code",
   "execution_count": 11,
   "metadata": {},
   "outputs": [
    {
     "data": {
      "text/plain": [
       "'Yakutsk'"
      ]
     },
     "execution_count": 11,
     "metadata": {},
     "output_type": "execute_result"
    }
   ],
   "source": [
    "game.board.territories[0].name"
   ]
  },
  {
   "cell_type": "markdown",
   "metadata": {},
   "source": [
    "<h2>More complicated features</h2>\n",
    "Note:\n",
    "- These are complicated and may therefore be time consuming to calculate but they are similar to heuristics I have used whilst playing the game myself.\n",
    "- These methods can be used on other players besides the learner so that the it can approximate the strength its opponents."
   ]
  },
  {
   "cell_type": "markdown",
   "metadata": {},
   "source": [
    "<h3>F1: Mean distance between owned countries</h3>\n",
    "\n",
    "Note: Distance is measured such that adjacent territories have distance 1 between them, i.e. measured in edges.\n",
    "\n",
    "Learning notes:\n",
    "- Both measurements should measure the spread of territories. The hypothesis being that bunched territories are easier to defend.\n",
    "    - The question is, which better estimates how well territories are bunched.\n",
    "    - Separate but perhaps more useful, which is the best indicator of good position.\n",
    "- Using mean distance should mean that sprawling map coverage is worse than clustered map coverage.\n",
    "    - It will also take into account edge values more.\n",
    "    - It may also dislike having multiple (separate) regions of owned territory, e.g. owning Australia and South Africa.\n",
    "- Using median distance should mean that edge values are not used directly."
   ]
  },
  {
   "cell_type": "code",
   "execution_count": null,
   "metadata": {
    "collapsed": true
   },
   "outputs": [],
   "source": [
    "def follow_path(world_map, node1, node2, path_so_far):\n",
    "    \"\"\"Recursive function for finding the shortest path between two nodes (in edges)\"\"\"\n",
    "    if len(list(world_map.territory_connections[node1]))==0:\n",
    "        # Terminating case: dead end\n",
    "        return None\n",
    "    elif len(list(world_map.territory_connections[node2]))==0:\n",
    "        # Terminating case: dead end\n",
    "        return None\n",
    "    else:\n",
    "        paths = []\n",
    "        # Loop through connected nodes, finding the shortest path for each of them\n",
    "        for n in world_map.territory_connections[node1]:\n",
    "            if n in path_so_far:\n",
    "                continue\n",
    "            elif n == node2:\n",
    "                return 1\n",
    "            path = follow_path(n, node2, path_so_far+[n])\n",
    "            if path != None:\n",
    "                path+=1\n",
    "                paths.append(path)\n",
    "        if len(paths)==0:\n",
    "            # Terminating case: all paths in this direction are dead ends\n",
    "            return None\n",
    "        else:\n",
    "            return min(paths)\n",
    "        \n",
    "def shortest_path(world_map, node1, node2):\n",
    "    \"\"\"Find the shortest distance between two territories using a recursive function\"\"\"\n",
    "    if not node1 in list(world_map.territory_connections.keys()):\n",
    "        raise ValueError ('Territory {0] not recognised.'.format(node1))\n",
    "    elif not node2 in list(world_map.territory_connections.keys()):\n",
    "        raise ValueError ('Territory {0] not recognised.'.format(node2))\n",
    "    else:\n",
    "        shortest = follow_path(node1, node2, [])\n",
    "        # Raising the error here allows the code to hit dead ends without causing undue errors\n",
    "        if shortest == None:\n",
    "            raise ValueError(str(('There is no path between node {0} and {1}'.format(node1, node2))))\n",
    "        else:\n",
    "            # Counting \"hops\"\n",
    "            return shortest\n",
    "        \n",
    "def average_territory_distance(player, world_map):\n",
    "    \"\"\"Find the average distance (in edges) between all pairs of territories for a given player\"\"\"\n",
    "    N = len(player.owned_territories)\n",
    "    distances = []\n",
    "    \n",
    "    # Loop through all pairs of territories, calculating the shortest distance (in graph edges) between them\n",
    "    for t in range(N): #territories\n",
    "        t_index = player.owned_territories[t]\n",
    "        for v in range(t+1, N):\n",
    "            v_index = player.owned_territories[v]\n",
    "            distances.append(shortest_path(world_map, t_index, v_index))\n",
    "    mean_distance = np.mean(distances)\n",
    "    median_distance = np.sort(distances)[int(len(distances) / 2)]\n",
    "    return mean_distance, median_distance"
   ]
  },
  {
   "cell_type": "markdown",
   "metadata": {},
   "source": [
    "<h3>F2: Strength of front line territories</h3>\n",
    "\n",
    "Notes:\n",
    "- Strength is determined by number of units on that territory\n",
    "- Front line territories are defined as the ones directly adjacent to territories owned by other players\n",
    "\n",
    "Learning notes:\n",
    "- The distinction between front line and others will probably be more useful in the late game\n",
    "    - It will be slow to calculate in early game but can be used then as an approximate metric for overall unit numbers\n",
    "    \n",
    "_Implementation notes:_\n",
    "- _What is preferable, total units on front line or average? Both will be calculated and total will be returned for now_\n",
    "- _I am also returning the minimum number of front-line units since that may also be useful._\n",
    "    - _As an extension to this, I'm returning which territory has the lowest number of units._"
   ]
  },
  {
   "cell_type": "code",
   "execution_count": null,
   "metadata": {
    "collapsed": true
   },
   "outputs": [],
   "source": [
    "def strength_of_front_line(player, world_map):\n",
    "    \"\"\"Calculate the number of players in each territory adjacent to enemy territory\"\"\"\n",
    "    N = len(player.owned_territories)\n",
    "    min_front_line_units = np.inf\n",
    "    \n",
    "    # Loop through all player territory to determine whether it is in the front line\n",
    "    for t in range(N): #territories\n",
    "        t_index = player.owned_territories[t]\n",
    "        \n",
    "        is_front_line = False\n",
    "        for at in world_map.territory_connections[t_index]: #adacent territories\n",
    "            if at not in player.owned_territories:\n",
    "                \n",
    "                is_front_line = True\n",
    "                break\n",
    "        \n",
    "        if is_front_line:\n",
    "            t_num_units = self.territories[t_index].num_units\n",
    "            front_line_units.append(t_num_units)\n",
    "            \n",
    "            if t_num_units < min_front_line_units:\n",
    "                min_front_line_units = t_num_units\n",
    "                weakest_link = t_index\n",
    "    \n",
    "    if min_front_line_units == np.inf:\n",
    "        raise \"This function has found no front line territories.\"\n",
    "    \n",
    "    tot_front_line_units = np.sum(front_line_units)\n",
    "    mean_front_line_units = np.mean(front_line_units)\n",
    "    \n",
    "    return tot_front_line_units, min_front_line_units, weakest_link"
   ]
  }
 ],
 "metadata": {
  "kernelspec": {
   "display_name": "Python 3",
   "language": "python",
   "name": "python3"
  },
  "language_info": {
   "codemirror_mode": {
    "name": "ipython",
    "version": 3
   },
   "file_extension": ".py",
   "mimetype": "text/x-python",
   "name": "python",
   "nbconvert_exporter": "python",
   "pygments_lexer": "ipython3",
   "version": "3.6.2"
  }
 },
 "nbformat": 4,
 "nbformat_minor": 2
}
