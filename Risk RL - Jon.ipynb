{
 "cells": [
  {
   "cell_type": "code",
   "execution_count": 3,
   "metadata": {},
   "outputs": [],
   "source": [
    "import numpy as np\n",
    "import pandas as pd"
   ]
  },
  {
   "cell_type": "code",
   "execution_count": 1,
   "metadata": {},
   "outputs": [],
   "source": [
    "class territory:\n",
    "    \"\"\"A territory within Risk\"\"\"\n",
    "    \n",
    "    def __init__(name, continent, adjacent_nodes):\n",
    "        self.name = name\n",
    "        self.continent = continent\n",
    "        self.adjacents = adjecent_nodes\n",
    "        self.owner = None\n",
    "        self.num_units = 0\n",
    "        return None\n",
    "        \n",
    "    def assign_owner(owner, num_units):\n",
    "        self.owner = owner\n",
    "        self.num_units = num_units\n",
    "        return None\n",
    "    \n",
    "    def change_units(unit_addition):\n",
    "        self.num_units += unit_addition\n",
    "        return self.num_units"
   ]
  },
  {
   "cell_type": "code",
   "execution_count": 2,
   "metadata": {},
   "outputs": [],
   "source": [
    "# class world_map:\n",
    "#     \"\"\"The full game board within Risk\"\"\"\n",
    "    \n",
    "#     def __init__()"
   ]
  },
  {
   "cell_type": "code",
   "execution_count": 4,
   "metadata": {},
   "outputs": [],
   "source": [
    "class player:\n",
    "    \"\"\"A player. This is the base class for the opponents and the agent.\"\"\"\n",
    "    \n",
    "    def __init__(): #Add these later if necessary: num_units=0, num_territories=0, continents_held=None):\n",
    "        # Initialise all properties\n",
    "        self.num_units = 0\n",
    "        self.num_territories = 0\n",
    "        self.continents = np.array([0, 0, 0])\n",
    "        self.owned_territories = []\n",
    "        return None\n",
    "    \n",
    "    def change_units(unit_addition):\n",
    "        \"\"\"Alter number of units\"\"\"\n",
    "        self.num_units += unit_addition\n",
    "        return self.num_units\n",
    "    \n",
    "    def add_territory(territory_index):\n",
    "        self.num_territories +=1\n",
    "        self.owned_territories.append(territory_index)\n",
    "        return self.num_territories, self.owned_territories"
   ]
  },
  {
   "cell_type": "code",
   "execution_count": null,
   "metadata": {},
   "outputs": [],
   "source": [
    "def reset_board():\n",
    "    \"\"\"Reset the game board and prepare for a new game of Risk\"\"\"\n",
    "    \n",
    "    \"\"\"Things I need:\n",
    "        Access to the number of players\n",
    "    Things I want:\n",
    "        Class properties with number of players/ territories globally\"\"\"\n",
    "    ##############################################\n",
    "    #### Add all territories to a single list ####\n",
    "    #### whilst initialising them as classes  ####\n",
    "    ##############################################\n",
    "    self.territories_list = []\n",
    "    for t_index, t_name in territory_index_lookup:\n",
    "        # Append index (I don't know if this is necessary)\n",
    "        self.territories_index_list.append(t)\n",
    "        \n",
    "        ## Determine territory properties ##\n",
    "        # Determine continent\n",
    "        if t_index <= 11:\n",
    "            # Territory is in Asia\n",
    "            continent = 0\n",
    "        elif t_index <= 17:\n",
    "            # Territory is in Africa\n",
    "            continent = 1\n",
    "        elif t_index <= 21:\n",
    "            # Territory is in Oceana\n",
    "            continent = 2\n",
    "        else:\n",
    "            raise \"Too many territories input\"\n",
    "        \n",
    "        # Determine adjacent territories\n",
    "        #### ALEX PUT YOUR FUNCTION HERE ####\n",
    "        # adjacent_nodes = \n",
    "        \n",
    "        self.territories_list.append(territory(t_name, continent, adjacent_nodes))\n",
    "    \n",
    "    ############################################################\n",
    "    #### Assign units to the territories for the first turn ####\n",
    "    ############################################################\n",
    "    "
   ]
  }
 ],
 "metadata": {
  "kernelspec": {
   "display_name": "Python 3",
   "language": "python",
   "name": "python3"
  },
  "language_info": {
   "codemirror_mode": {
    "name": "ipython",
    "version": 3
   },
   "file_extension": ".py",
   "mimetype": "text/x-python",
   "name": "python",
   "nbconvert_exporter": "python",
   "pygments_lexer": "ipython3",
   "version": "3.6.5"
  }
 },
 "nbformat": 4,
 "nbformat_minor": 2
}
