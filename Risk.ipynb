{
 "cells": [
  {
   "cell_type": "code",
   "execution_count": 18,
   "metadata": {
    "collapsed": true
   },
   "outputs": [],
   "source": [
    "import numpy as np"
   ]
  },
  {
   "cell_type": "code",
   "execution_count": 29,
   "metadata": {
    "collapsed": true
   },
   "outputs": [],
   "source": [
    "territory_index_lookup = {'Yakutsk':0,'Kamchatka':1,'Siberia':2,'Irkutsk':3,'Japan':4,\n",
    "                          'Mongolia':5,'Ural':6,'China':7,'Afghanistan':8,'Middle East':9,\n",
    "                          'India':10,'Siam':11,'Egypt':12,'North Africa':13,'East Africa':14,\n",
    "                          'Congo':15,'Madagascar':16,'South Africa':17,'Indonesia':18,'New Guinea':19,\n",
    "                          'Western Australia':20,'Eastern Australia':21}\n",
    "\n",
    "inv_territory_index_lookup = {v: k for k, v in territory_index_lookup.items()}"
   ]
  },
  {
   "cell_type": "code",
   "execution_count": 28,
   "metadata": {},
   "outputs": [],
   "source": [
    "territory_connections = {0:[1,2,3],1:[0,3,4],2:[0,3,5,6,7],3:[0,1,2,5],4:[1,5],5:[2,3,4,7],6:[2,7,8],7:[2,5,6,8,10,11],8:[6,7,9,10],9:[8,10,12,14],10:[7,8,9,11],11:[7,10,18],12:[9,13,14],13:[12,14,15],14:[9,12,13,15,16,17],15:[13,14,17],16:[14,17],17:[14,15,16],18:[11,19,20],19:[18,20,21],20:[18,19,21],21:[19,20]}"
   ]
  },
  {
   "cell_type": "code",
   "execution_count": 33,
   "metadata": {},
   "outputs": [],
   "source": [
    "def find_connection_names(name):\n",
    "\n",
    "    connections = territory_connections[territory_index_lookup[name]]\n",
    "\n",
    "    for i in range(len(connections)):\n",
    "\n",
    "        connections[i] = inv_territory_index_lookup[connections[i]]\n",
    "\n",
    "    return connections\n",
    "        "
   ]
  },
  {
   "cell_type": "code",
   "execution_count": 34,
   "metadata": {},
   "outputs": [
    {
     "data": {
      "text/plain": [
       "['China', 'India', 'Indonesia']"
      ]
     },
     "execution_count": 34,
     "metadata": {},
     "output_type": "execute_result"
    }
   ],
   "source": [
    "find_connection_names('Siam')"
   ]
  }
 ],
 "metadata": {
  "kernelspec": {
   "display_name": "Python 3",
   "language": "python",
   "name": "python3"
  },
  "language_info": {
   "codemirror_mode": {
    "name": "ipython",
    "version": 3
   },
   "file_extension": ".py",
   "mimetype": "text/x-python",
   "name": "python",
   "nbconvert_exporter": "python",
   "pygments_lexer": "ipython3",
   "version": "3.6.5"
  }
 },
 "nbformat": 4,
 "nbformat_minor": 2
}
